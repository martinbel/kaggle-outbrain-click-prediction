{
 "cells": [
  {
   "cell_type": "markdown",
   "metadata": {},
   "source": [
    "### Beat the BTB with vowpall wabbit\n",
    "\n",
    "General instructions to reproduces the submission that by this time would get you at the 90th position. Find the code in the [repo](https://github.com/martinbel/kaggle-outbrain-click-prediction).\n",
    "\n",
    "**1.** Run csv2vw.py to read the data into the right format. You'll need to change the path of each file for this\n",
    "\n",
    "The output file has a namespace for each variable, in order to allow making interactions more flexible.                                        \n",
    "\n",
    "**ad_id - display_id:**\n",
    "\n",
    "|a ad_id |b display_id\n",
    "\n",
    "**events:**\n",
    "\n",
    "|u uuid|d document_id|p promoted|c country|s state|l localoty|w week|h hour|\n",
    "\n",
    "**promoted:**\n",
    "\n",
    "|x document_id |y campaign_id |z advertiser_id\n",
    "\n",
    "**2.** `vwcommands.sh` has an example of the model I've used to get to 0.64144 in the public leaderboard, that by this time is at the 90th position.\n",
    "Not great but a nice start with room for improvement.\n",
    "The average loss for this model is: 0.437686\n",
    "\n",
    "**3.** write_submission.R converts the output of vw into probabilities, and finally the submission format. "
   ]
  },
  {
   "cell_type": "markdown",
   "metadata": {},
   "source": [
    "### First let's clone the repo"
   ]
  },
  {
   "cell_type": "code",
   "execution_count": null,
   "metadata": {
    "collapsed": true
   },
   "outputs": [],
   "source": [
    "!git clone https://github.com/martinbel/kaggle-outbrain-click-prediction\n",
    "cd kaggle-outbrain-click-prediction"
   ]
  },
  {
   "cell_type": "markdown",
   "metadata": {},
   "source": [
    "One simple way to move forward is to copy the data into this folder. Another option is to reference them where you have them by changing the scripts. \n",
    "The `csv2vw.py` script reads the files: \n",
    "- clicks_train.csv\n",
    "- events.csv \n",
    "- promoted_content.csv\n",
    "joins them and converts them to vowpal wabbit's [input format](https://github.com/JohnLangford/vowpal_wabbit/wiki/Input-format). "
   ]
  },
  {
   "cell_type": "code",
   "execution_count": null,
   "metadata": {
    "collapsed": true
   },
   "outputs": [],
   "source": [
    "# Run \n",
    "python csv2vw.py"
   ]
  },
  {
   "cell_type": "markdown",
   "metadata": {},
   "source": [
    "Once the file is in the correct format, that can be checked with [validator](http://hunch.net/~vw/validate.html) we can train a model. \n",
    "The following model is a one layer neural network, trained with SGD. There are several [options](https://github.com/JohnLangford/vowpal_wabbit/wiki/Command-line-arguments) that can be explored. See the [tutorials](https://github.com/JohnLangford/vowpal_wabbit/wiki/Tutorial) for more info. "
   ]
  },
  {
   "cell_type": "code",
   "execution_count": null,
   "metadata": {
    "collapsed": true
   },
   "outputs": [],
   "source": [
    "### Train model - average loss 0.437686\n",
    "vw train.w -f nn_250.vw -c --loss_function logistic -l 0.01 -b 28 --l2 1e-7 --ignore b --nn 250 --dropout --passes 2\n",
    "\n",
    "# Inference\n",
    "vw test.w -t -i nn_250.vw -p prob_nn_250.txt"
   ]
  },
  {
   "cell_type": "markdown",
   "metadata": {},
   "source": [
    "The last comands generates predictions from the model and saves them in prob_nn_250.txt. We still need to convert these raw scores (they are not probabilities) into the submission format.\n",
    "\n",
    "For this run the `write_submission.R` script that reads the prob_nn_250.txt, clicks_test.csv and writes the submission file: `btb_with_vw.csv`."
   ]
  },
  {
   "cell_type": "code",
   "execution_count": null,
   "metadata": {
    "collapsed": true
   },
   "outputs": [],
   "source": []
  },
  {
   "cell_type": "code",
   "execution_count": null,
   "metadata": {
    "collapsed": true
   },
   "outputs": [],
   "source": []
  },
  {
   "cell_type": "code",
   "execution_count": null,
   "metadata": {
    "collapsed": true
   },
   "outputs": [],
   "source": []
  }
 ],
 "metadata": {
  "anaconda-cloud": {},
  "kernelspec": {
   "display_name": "Python [conda root]",
   "language": "python",
   "name": "conda-root-py"
  },
  "language_info": {
   "codemirror_mode": {
    "name": "ipython",
    "version": 2
   },
   "file_extension": ".py",
   "mimetype": "text/x-python",
   "name": "python",
   "nbconvert_exporter": "python",
   "pygments_lexer": "ipython2",
   "version": "2.7.12"
  }
 },
 "nbformat": 4,
 "nbformat_minor": 1
}
